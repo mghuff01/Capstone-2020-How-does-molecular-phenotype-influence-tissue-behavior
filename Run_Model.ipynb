{
 "cells": [
  {
   "cell_type": "markdown",
   "metadata": {},
   "source": [
    "# Multicompartment model of vascularized solid tumors\n",
    "- This code supports the paper titled: \"Multicompartment modeling of protein shedding kinetics during vascularized tumor growth\".\n",
    "- Python scripts (.py) are loaded for function calling to streamline the experiments run in this notebook - the first 4 imports below are the mentioned python scripts.\n",
    "- Developed by Gautam Machiraju and advised by Drs. Parag Mallick and Hermann Frieboes."
   ]
  },
  {
   "cell_type": "markdown",
   "metadata": {},
   "source": [
    "## Imports and Function loading"
   ]
  },
  {
   "cell_type": "code",
   "execution_count": 1,
   "metadata": {},
   "outputs": [
    {
     "name": "stdout",
     "output_type": "stream",
     "text": [
      "The autoreload extension is already loaded. To reload it, use:\n",
      "  %reload_ext autoreload\n"
     ]
    }
   ],
   "source": [
    "from models import *\n",
    "from analyzer import *\n",
    "from data_structs import *\n",
    "from plotter import *\n",
    "\n",
    "import pandas as pd\n",
    "import numpy as np\n",
    "import scipy as sci\n",
    "import pdb\n",
    "import os\n",
    "import pickle\n",
    "import matplotlib.pyplot as plt\n",
    "import seaborn as sns\n",
    "\n",
    "%matplotlib inline\n",
    "%reload_ext autoreload\n",
    "%load_ext autoreload\n",
    "%autoreload 2"
   ]
  },
  {
   "cell_type": "markdown",
   "metadata": {},
   "source": [
    "## Global parameters"
   ]
  },
  {
   "cell_type": "code",
   "execution_count": 2,
   "metadata": {},
   "outputs": [],
   "source": [
    "maxYears = 12\n",
    "maxIter = maxYears * 365  # days\n",
    "\n",
    "# set up meshed parameter space (Note: Phi_0s = O2maxs) ** distinguish how\n",
    "# this is different for in vivo Phi_0 really means somethign different for\n",
    "# plated cells.\n",
    "\n",
    "O2a = 12  # 12 gives almost nothing valid\n",
    "O2b = 20\n",
    "O2maxs = list(range(O2a, O2b + 1))\n",
    "\n",
    "kva = 1 * (10 ** -3)\n",
    "kvb = 2 * (10 ** -1)\n",
    "kvs = list(np.linspace(start=kva, stop=kvb, num=20))\n",
    "\n",
    "sigma = 0.006\n",
    "\n",
    "# birth and death rate data\n",
    "y1B, y1D = 0.00078367, 0.00156509\n",
    "y20B, y20D = 0.0082206, 0\n",
    "rates = [y1B, y1D, y20B, y20D]\n",
    "\n",
    "# simulation step size\n",
    "step=1 # 0.1\n"
   ]
  },
  {
   "cell_type": "code",
   "execution_count": 3,
   "metadata": {},
   "outputs": [
    {
     "name": "stdout",
     "output_type": "stream",
     "text": [
      "[12, 13, 14, 15, 16, 17, 18, 19, 20]\n",
      "[0.001, 0.011473684210526316, 0.021947368421052632, 0.03242105263157895, 0.04289473684210526, 0.05336842105263158, 0.0638421052631579, 0.07431578947368421, 0.08478947368421053, 0.09526315789473684, 0.10573684210526316, 0.11621052631578947, 0.1266842105263158, 0.1371578947368421, 0.14763157894736842, 0.15810526315789475, 0.16857894736842105, 0.17905263157894735, 0.18952631578947368, 0.2]\n"
     ]
    }
   ],
   "source": [
    "print(O2maxs)\n",
    "print(kvs)"
   ]
  },
  {
   "cell_type": "markdown",
   "metadata": {},
   "source": [
    "## Helper Functions"
   ]
  },
  {
   "cell_type": "code",
   "execution_count": 4,
   "metadata": {},
   "outputs": [],
   "source": [
    "def sens_marker_params(n_points, Fe_arr, Fne_arr, P, N, n, maxIter):\n",
    "    arr = []\n",
    "    for i in range(n_points):\n",
    "        sh = ShedObj(Fe_arr[i], P, N, n, maxIter)\n",
    "        arr.append(ST_shed(sh, dt=step))\n",
    "    for i in range(n_points):\n",
    "        sh = ShedObj(Fne_arr[i], P, N, n, maxIter)\n",
    "        arr.append(ST_shed(sh, dt=step))\n",
    "    return arr\n",
    "\n",
    "def sens_tumor_params(n_points, Fe, Fne, grow_objs, maxIter):\n",
    "    arr = []\n",
    "    for i in range(n_points):\n",
    "        sh = ShedObj(Fe, grow_objs[i].NmatA, grow_objs[\n",
    "            i].NmatD, grow_objs[i].n, maxIter)\n",
    "        arr.append(ST_shed(sh, dt=step))\n",
    "    for i in range(n_points):\n",
    "        sh = ShedObj(Fne, grow_objs[i].NmatA, grow_objs[\n",
    "            i].NmatD, grow_objs[i].n, maxIter)\n",
    "        arr.append(ST_shed(sh, dt=step))\n",
    "    return arr\n",
    "\n",
    "def str2bool(v):\n",
    "    if v.lower() in ('yes', 'true', 't', 'y', '1'):\n",
    "        return True\n",
    "    elif v.lower() in ('no', 'false', 'f', 'n', '0'):\n",
    "        return False\n",
    "    else:\n",
    "        raise argparse.ArgumentTypeError('Boolean value expected.')\n",
    "\n",
    "def serialize(obj, path):\n",
    "    with open(path, 'wb') as fh:\n",
    "        pickle.dump(obj, fh)\n",
    "\n",
    "def deserialize(path):\n",
    "    with open(path, 'rb') as fh:\n",
    "        return pickle.load(fh)\n"
   ]
  },
  {
   "cell_type": "markdown",
   "metadata": {},
   "source": [
    "## 1. Tumor growth simulations - model mesh/grid search \n",
    "This is the simulation grid search over our parameter space. This is performed to get multiple runs and select models that are deemed \"valid\" given some a priori constraints."
   ]
  },
  {
   "cell_type": "code",
   "execution_count": 5,
   "metadata": {},
   "outputs": [],
   "source": [
    "# parameters of run (toggle) -- False overrides the cache\n",
    "mesh_cached = False"
   ]
  },
  {
   "cell_type": "code",
   "execution_count": 6,
   "metadata": {
    "scrolled": false
   },
   "outputs": [
    {
     "name": "stdout",
     "output_type": "stream",
     "text": [
      "\n",
      "Overwriting and running full MESH... This may take a few minutes.\n"
     ]
    },
    {
     "ename": "IndexError",
     "evalue": "index 1 is out of bounds for axis 1 with size 1",
     "output_type": "error",
     "traceback": [
      "\u001b[1;31m---------------------------------------------------------------------------\u001b[0m",
      "\u001b[1;31mIndexError\u001b[0m                                Traceback (most recent call last)",
      "\u001b[1;32m<ipython-input-6-48c22921357d>\u001b[0m in \u001b[0;36m<module>\u001b[1;34m\u001b[0m\n\u001b[0;32m      3\u001b[0m         \"\\nOverwriting and running full MESH... This may take a few minutes.\")\n\u001b[0;32m      4\u001b[0m     \u001b[0mmesh_obj\u001b[0m \u001b[1;33m=\u001b[0m \u001b[0mMeshObj\u001b[0m\u001b[1;33m(\u001b[0m\u001b[0mmaxIter\u001b[0m\u001b[1;33m,\u001b[0m \u001b[0mkvs\u001b[0m\u001b[1;33m,\u001b[0m \u001b[0mO2maxs\u001b[0m\u001b[1;33m,\u001b[0m \u001b[0msigma\u001b[0m\u001b[1;33m,\u001b[0m \u001b[0mrates\u001b[0m\u001b[1;33m)\u001b[0m\u001b[1;33m\u001b[0m\u001b[1;33m\u001b[0m\u001b[0m\n\u001b[1;32m----> 5\u001b[1;33m     \u001b[0mmesh_obj\u001b[0m \u001b[1;33m=\u001b[0m \u001b[0mST_grow_mesh\u001b[0m\u001b[1;33m(\u001b[0m\u001b[0mmesh_obj\u001b[0m\u001b[1;33m)\u001b[0m\u001b[1;33m\u001b[0m\u001b[1;33m\u001b[0m\u001b[0m\n\u001b[0m\u001b[0;32m      6\u001b[0m \u001b[1;33m\u001b[0m\u001b[0m\n\u001b[0;32m      7\u001b[0m     \u001b[1;32mif\u001b[0m \u001b[0mmesh_obj\u001b[0m \u001b[1;32mis\u001b[0m \u001b[1;32mnot\u001b[0m \u001b[1;32mNone\u001b[0m\u001b[1;33m:\u001b[0m\u001b[1;33m\u001b[0m\u001b[1;33m\u001b[0m\u001b[0m\n",
      "\u001b[1;32m~\\AppData\\Local\\Programs\\Python\\Python39\\Scripts\\Original Tumor Model Code\\MulticompartmentTumors-master\\models.py\u001b[0m in \u001b[0;36mST_grow_mesh\u001b[1;34m(mesh_obj, dt)\u001b[0m\n\u001b[0;32m    209\u001b[0m             grow_obj_i = GrowObj(mesh_obj.maxIter, mesh_obj.kvs[\n\u001b[0;32m    210\u001b[0m                 j], mesh_obj.O2maxs[i], mesh_obj.sigma, mesh_obj.rates)\n\u001b[1;32m--> 211\u001b[1;33m             \u001b[0mgrow_objs\u001b[0m\u001b[1;33m.\u001b[0m\u001b[0mappend\u001b[0m\u001b[1;33m(\u001b[0m\u001b[0mST_grow\u001b[0m\u001b[1;33m(\u001b[0m\u001b[0mgrow_obj_i\u001b[0m\u001b[1;33m,\u001b[0m \u001b[0mdt\u001b[0m\u001b[1;33m=\u001b[0m\u001b[0mdt\u001b[0m\u001b[1;33m)\u001b[0m\u001b[1;33m)\u001b[0m\u001b[1;33m\u001b[0m\u001b[1;33m\u001b[0m\u001b[0m\n\u001b[0m\u001b[0;32m    212\u001b[0m \u001b[1;33m\u001b[0m\u001b[0m\n\u001b[0;32m    213\u001b[0m         \u001b[0mprint\u001b[0m\u001b[1;33m(\u001b[0m\u001b[1;34m'\\nFinished analyzing O2max = %s!\\n'\u001b[0m \u001b[1;33m%\u001b[0m \u001b[1;33m(\u001b[0m\u001b[0mmesh_obj\u001b[0m\u001b[1;33m.\u001b[0m\u001b[0mO2maxs\u001b[0m\u001b[1;33m[\u001b[0m\u001b[0mi\u001b[0m\u001b[1;33m]\u001b[0m\u001b[1;33m)\u001b[0m\u001b[1;33m)\u001b[0m\u001b[1;33m\u001b[0m\u001b[1;33m\u001b[0m\u001b[0m\n",
      "\u001b[1;32m~\\AppData\\Local\\Programs\\Python\\Python39\\Scripts\\Original Tumor Model Code\\MulticompartmentTumors-master\\models.py\u001b[0m in \u001b[0;36mST_grow\u001b[1;34m(grow_obj, dt)\u001b[0m\n\u001b[0;32m    133\u001b[0m \u001b[1;33m\u001b[0m\u001b[0m\n\u001b[0;32m    134\u001b[0m                 \u001b[1;31m# factor of 10 difference between compartments ==> dump\u001b[0m\u001b[1;33m\u001b[0m\u001b[1;33m\u001b[0m\u001b[1;33m\u001b[0m\u001b[0m\n\u001b[1;32m--> 135\u001b[1;33m                 \u001b[1;32mif\u001b[0m \u001b[1;33m(\u001b[0m\u001b[1;33m(\u001b[0m\u001b[0mNmatA\u001b[0m\u001b[1;33m[\u001b[0m\u001b[0mt\u001b[0m\u001b[1;33m,\u001b[0m\u001b[0mi\u001b[0m\u001b[1;33m]\u001b[0m \u001b[1;33m/\u001b[0m \u001b[1;33m(\u001b[0m\u001b[0mNmatA\u001b[0m\u001b[1;33m[\u001b[0m\u001b[0mt\u001b[0m\u001b[1;33m,\u001b[0m \u001b[0mi\u001b[0m\u001b[1;33m+\u001b[0m\u001b[1;36m1\u001b[0m\u001b[1;33m]\u001b[0m \u001b[1;33m+\u001b[0m \u001b[0mwiggle\u001b[0m\u001b[1;33m)\u001b[0m\u001b[1;33m)\u001b[0m \u001b[1;33m>\u001b[0m \u001b[1;36m10\u001b[0m\u001b[1;33m)\u001b[0m\u001b[1;33m:\u001b[0m\u001b[1;33m\u001b[0m\u001b[1;33m\u001b[0m\u001b[0m\n\u001b[0m\u001b[0;32m    136\u001b[0m                     \u001b[0mNi_dump\u001b[0m \u001b[1;33m=\u001b[0m \u001b[0mprob_dump\u001b[0m\u001b[1;33m*\u001b[0m\u001b[0mNi_curr\u001b[0m\u001b[1;33m\u001b[0m\u001b[1;33m\u001b[0m\u001b[0m\n\u001b[0;32m    137\u001b[0m \u001b[1;33m\u001b[0m\u001b[0m\n",
      "\u001b[1;31mIndexError\u001b[0m: index 1 is out of bounds for axis 1 with size 1"
     ]
    }
   ],
   "source": [
    "if mesh_cached == False:\n",
    "    print(\n",
    "        \"\\nOverwriting and running full MESH... This may take a few minutes.\")\n",
    "    mesh_obj = MeshObj(maxIter, kvs, O2maxs, sigma, rates)\n",
    "    mesh_obj = ST_grow_mesh(mesh_obj)\n",
    "\n",
    "    if mesh_obj is not None:\n",
    "        serialize(mesh_obj, 'mesh_cached.obj')\n",
    "        \n",
    "elif mesh_cached == True:\n",
    "    print(\"\\nUsing old MESH run & proceeding with MESH analysis!\")\n",
    "\n",
    "mesh_cached = deserialize('mesh_cached.obj')"
   ]
  },
  {
   "cell_type": "code",
   "execution_count": null,
   "metadata": {
    "scrolled": false
   },
   "outputs": [],
   "source": [
    "analyze_mesh(mesh_cached)"
   ]
  },
  {
   "cell_type": "markdown",
   "metadata": {},
   "source": [
    "## 2. Tumor growth sensitivity analyses"
   ]
  },
  {
   "cell_type": "code",
   "execution_count": null,
   "metadata": {},
   "outputs": [],
   "source": [
    "# parameters of run (toggle) -- False overrides the cache\n",
    "sens_cached = False"
   ]
  },
  {
   "cell_type": "code",
   "execution_count": null,
   "metadata": {},
   "outputs": [],
   "source": [
    "n_points = 5\n",
    "\n",
    "# kv - sensitivity search params\n",
    "O2maxs_2 = (O2a + O2b) / 2\n",
    "kvs_1 = np.linspace(kva, kvb, n_points)\n",
    "\n",
    "# O2max/Phi0 - sensitivity search params\n",
    "O2maxs_1 = np.linspace(O2a, O2b, n_points)\n",
    "kvs_2 = (kva + kvb) / 2\n",
    "\n",
    "\n",
    "if sens_cached == False:\n",
    "    print(\n",
    "        \"\\nOverwriting and running full SENS... This may take a minute.\")\n",
    "\n",
    "    grow_objs_kv = []\n",
    "    for i in range(0, n_points):\n",
    "        grow_obj = GrowObj(maxIter, kvs_1[i], O2maxs_1, sigma, rates)\n",
    "        grow_objs_kv.append(ST_grow(grow_obj))\n",
    "\n",
    "    grow_objs_O2 = []\n",
    "    for i in range(0, n_points):\n",
    "        grow_obj = GrowObj(maxIter, kvs_2, O2maxs_2[i], sigma, rates)\n",
    "        grow_objs_O2.append(ST_grow(grow_obj))\n",
    "\n",
    "    if grow_objs_kv is not None:\n",
    "        serialize(grow_objs_kv, 'sens_kv_cached.obj')\n",
    "    if grow_objs_O2 is not None:\n",
    "        serialize(grow_objs_O2, 'sens_O2_cached.obj')\n",
    "\n",
    "elif sens_cached == True:\n",
    "    print(\"\\nUsing old SENS run & proceeding with SENS analysis!\")\n"
   ]
  },
  {
   "cell_type": "code",
   "execution_count": null,
   "metadata": {},
   "outputs": [],
   "source": [
    "print(kvs_1)\n",
    "print(O2maxs_2)"
   ]
  },
  {
   "cell_type": "code",
   "execution_count": null,
   "metadata": {},
   "outputs": [],
   "source": [
    "print(O2maxs_1)\n",
    "print(kvs_2)"
   ]
  },
  {
   "cell_type": "code",
   "execution_count": null,
   "metadata": {},
   "outputs": [],
   "source": [
    "sens_kv_cached = deserialize('sens_kv_cached.obj')\n",
    "sens_O2_cached = deserialize('sens_O2_cached.obj')\n",
    "\n",
    "sens_arr = [sens_kv_cached, sens_O2_cached]\n",
    "kv_arr = [kvs_1, kvs_2]\n",
    "O2_arr = [O2maxs_1, O2maxs_2]\n",
    "analyze_growth_sensitivity(sens_arr, kv_arr, O2_arr)"
   ]
  },
  {
   "cell_type": "markdown",
   "metadata": {},
   "source": [
    "## 3. Shedding simulations"
   ]
  },
  {
   "cell_type": "code",
   "execution_count": null,
   "metadata": {},
   "outputs": [],
   "source": [
    "# cached variables\n",
    "P = deserialize('P.obj')\n",
    "N = deserialize('N.obj')\n",
    "n = P.shape[1]\n",
    "\n",
    "# Constants\n",
    "th = 6.4  # half-life in days\n",
    "\n",
    "normalshed_ca125 = 4.56e3 # healthy cell shedding U/day, Hori et al, introducing another parameter\n",
    "normalshed_ic = 4.56e2 # log order lower\n",
    "\n",
    "# basal q0\n",
    "qb_ec = normalshed_ca125\n",
    "qb_ic = normalshed_ic\n",
    "\n",
    "# phi and psi\n",
    "phi_ex = 4.5e-5 * 0.1 # Hori et al's R*f\n",
    "phi_ic = phi_ex*100 # 2 log orders is what we assume here"
   ]
  },
  {
   "cell_type": "markdown",
   "metadata": {},
   "source": [
    "Note: Marker2Mice is a marker object that is developed for future use in mouse model studies. With Mass Spec data from tumor and blood samples, we can better estimate inferred parameters. The naming convention is more of a nod to future use than anything else."
   ]
  },
  {
   "cell_type": "code",
   "execution_count": null,
   "metadata": {},
   "outputs": [],
   "source": [
    "mode = \"experiment\"\n",
    "Fe = Marker2Mice(1, None, qb_ic, th, None, None, None, phi_ic, normalshed_ic, mode)  \n",
    "Fne = Marker2Mice(0, None, qb_ic, th, None, None, None, phi_ic, normalshed_ic, mode) \n",
    "# assuming phi = psi here for consistency\n",
    "\n",
    "shed_obj_Fe = ShedObj(Fe, P, N, n, maxIter)\n",
    "shed_obj_Fne = ShedObj(Fne, P, N, n, maxIter)\n",
    "\n",
    "shed_obj_Fe = ST_shed(shed_obj_Fe, dt=step)\n",
    "shed_obj_Fne = ST_shed(shed_obj_Fne, dt=step)"
   ]
  },
  {
   "cell_type": "code",
   "execution_count": null,
   "metadata": {},
   "outputs": [],
   "source": [
    "analyze_markerEC(shed_obj_Fe, shed_obj_Fne)"
   ]
  },
  {
   "cell_type": "markdown",
   "metadata": {},
   "source": [
    "## 4. Grid search - parameter scanning"
   ]
  },
  {
   "cell_type": "code",
   "execution_count": null,
   "metadata": {},
   "outputs": [],
   "source": [
    "n_points = 3\n",
    "mode = \"experiment\"\n",
    "\n",
    "Psi_grid = np.logspace(1.5, 6, n_points) * phi_ic\n",
    "th_grid = np.logspace(-1, 2, n_points) * th # -1, 1.5 | 0, 2.5\n",
    "uh_grid = np.logspace(-2, 2, n_points) * normalshed_ic\n"
   ]
  },
  {
   "cell_type": "code",
   "execution_count": null,
   "metadata": {},
   "outputs": [],
   "source": [
    "print(Psi_grid)\n",
    "print(th_grid)\n",
    "print(uh_grid)"
   ]
  },
  {
   "cell_type": "code",
   "execution_count": null,
   "metadata": {},
   "outputs": [],
   "source": [
    "Fe_ca125 = Marker2Mice(1, None, qb_ec, th, None, None, None, phi_ex, normalshed_ca125, mode)  \n",
    "Fne_ca125 = Marker2Mice(0, None, qb_ic, th, None, None, None, phi_ic, normalshed_ic, mode) \n",
    "# assuming phi = psi here for consistency, but normalshed will differ\n",
    "\n",
    "markers = [Fe_ca125, Fne_ca125]\n",
    "combos = [[phi_ex, th, normalshed_ca125],[phi_ic, th, normalshed_ic]]"
   ]
  },
  {
   "cell_type": "code",
   "execution_count": null,
   "metadata": {},
   "outputs": [],
   "source": [
    "# grid search\n",
    "for p in Psi_grid:\n",
    "    for t in th_grid:\n",
    "        for uh in uh_grid: \n",
    "            combos.append([p, t, uh])\n",
    "            F = Marker2Mice(0, None, qb_ic, t, None, None, None, p, uh, mode)\n",
    "            markers.append(F)        \n",
    "    \n",
    "sheds = []\n",
    "for i,F in enumerate(markers):\n",
    "    so = ShedObj(F, P, N, n, maxIter)\n",
    "    so = ST_shed(so, dt=step)\n",
    "    sheds.append(so)"
   ]
  },
  {
   "cell_type": "code",
   "execution_count": null,
   "metadata": {},
   "outputs": [],
   "source": [
    "combos"
   ]
  },
  {
   "cell_type": "code",
   "execution_count": null,
   "metadata": {},
   "outputs": [],
   "source": [
    "analyze_compete_grid(sheds)"
   ]
  },
  {
   "cell_type": "markdown",
   "metadata": {},
   "source": [
    "## 5. Shedding sensitivity analysis"
   ]
  },
  {
   "cell_type": "code",
   "execution_count": null,
   "metadata": {},
   "outputs": [],
   "source": [
    "mode = \"experiment\"\n",
    "\n",
    "grow_objs_kv = deserialize('sens_kv_cached.obj')\n",
    "grow_objs_O2 = deserialize('sens_O2_cached.obj')\n",
    "n_points = len(grow_objs_kv)\n",
    "\n",
    "# kv - hyperparameter\n",
    "shed_objs_kv = sens_tumor_params(n_points, Fe, Fne, grow_objs_kv, maxIter)\n",
    "\n",
    "# O2max - hyperparameter\n",
    "shed_objs_O2 = sens_tumor_params(n_points, Fe, Fne, grow_objs_O2, maxIter)\n"
   ]
  },
  {
   "cell_type": "code",
   "execution_count": null,
   "metadata": {},
   "outputs": [],
   "source": [
    "# Phi, Psi\n",
    "Psis = np.logspace(0, 3, 5) * phi_ic\n",
    "\n",
    "Fe_sens_phi = []\n",
    "Fne_sens_phi = []\n",
    "for i in range(len(Psis)):\n",
    "    Fe_sens_phi.append(Marker2Mice(1, None, qb_ic, th, None, None, None, Psis[i], normalshed_ic, mode)) # have to do phi=psi here\n",
    "    Fne_sens_phi.append(Marker2Mice(0, None, qb_ic, th, None, None, None, Psis[i], normalshed_ic, mode))\n",
    "\n",
    "shed_objs_phi = sens_marker_params(n_points, Fe_sens_phi, Fne_sens_phi, P, N, n, maxIter)\n"
   ]
  },
  {
   "cell_type": "code",
   "execution_count": null,
   "metadata": {},
   "outputs": [],
   "source": [
    "Psis"
   ]
  },
  {
   "cell_type": "code",
   "execution_count": null,
   "metadata": {},
   "outputs": [],
   "source": [
    "# t_1/2\n",
    "ths = np.array([th/10, th, th*10, th*50, th*100])\n",
    "\n",
    "Fe_sens_t = []\n",
    "Fne_sens_t = []\n",
    "for i in range(len(ths)):\n",
    "    Fe_sens_t.append(Marker2Mice(1, None, qb_ic, ths[i], None, None, None, phi_ic, normalshed_ic, mode))\n",
    "    Fne_sens_t.append(Marker2Mice(0, None, qb_ic, ths[i], None, None, None, phi_ic, normalshed_ic, mode))\n",
    "\n",
    "shed_objs_t = sens_marker_params(n_points, Fe_sens_t, Fne_sens_t, P, N, n, maxIter)\n"
   ]
  },
  {
   "cell_type": "code",
   "execution_count": null,
   "metadata": {},
   "outputs": [],
   "source": [
    "ths"
   ]
  },
  {
   "cell_type": "code",
   "execution_count": null,
   "metadata": {},
   "outputs": [],
   "source": [
    "# u_H\n",
    "uhs = np.logspace(0,2,5) * normalshed_ic # same for both ic and ec here\n",
    "\n",
    "Fe_sens_u = []\n",
    "Fne_sens_u = []\n",
    "for i in range(len(uhs)):\n",
    "    Fe_sens_u.append(Marker2Mice(1, None, qb_ic, th, None, None, None, phi_ic, uhs[i], mode))\n",
    "    Fne_sens_u.append(Marker2Mice(0, None, qb_ic, th, None, None, None, phi_ic, uhs[i], mode))\n",
    "\n",
    "shed_objs_u = sens_marker_params(n_points, Fe_sens_u, Fne_sens_u, P, N, n, maxIter)\n"
   ]
  },
  {
   "cell_type": "code",
   "execution_count": null,
   "metadata": {},
   "outputs": [],
   "source": [
    "uhs"
   ]
  },
  {
   "cell_type": "code",
   "execution_count": null,
   "metadata": {},
   "outputs": [],
   "source": [
    "print(th, phi_ic, normalshed_ic)"
   ]
  },
  {
   "cell_type": "code",
   "execution_count": null,
   "metadata": {},
   "outputs": [],
   "source": [
    "# Run sensitivity \n",
    "params = [kvs_1, O2maxs_1, Psis, ths, uhs]\n",
    "sens_arr = [shed_objs_kv, shed_objs_O2, shed_objs_phi, shed_objs_t, shed_objs_u]\n",
    "analyze_shed_sensitivity(sens_arr, params, [r\"$k_V$\", r\"$C_0$\", r\"$\\Phi$ or $\\Psi$\", r\"$t_{1/2}$\", r\"$u_H$\"], P)"
   ]
  }
 ],
 "metadata": {
  "kernelspec": {
   "display_name": "Python 3",
   "language": "python",
   "name": "python3"
  },
  "language_info": {
   "codemirror_mode": {
    "name": "ipython",
    "version": 3
   },
   "file_extension": ".py",
   "mimetype": "text/x-python",
   "name": "python",
   "nbconvert_exporter": "python",
   "pygments_lexer": "ipython3",
   "version": "3.9.0"
  }
 },
 "nbformat": 4,
 "nbformat_minor": 4
}
